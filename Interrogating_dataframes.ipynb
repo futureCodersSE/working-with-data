{
  "nbformat": 4,
  "nbformat_minor": 0,
  "metadata": {
    "colab": {
      "provenance": [],
      "authorship_tag": "ABX9TyMDBMZSzLI6jSuylmiOeZsC",
      "include_colab_link": true
    },
    "kernelspec": {
      "name": "python3",
      "display_name": "Python 3"
    },
    "language_info": {
      "name": "python"
    }
  },
  "cells": [
    {
      "cell_type": "markdown",
      "metadata": {
        "id": "view-in-github",
        "colab_type": "text"
      },
      "source": [
        "<a href=\"https://colab.research.google.com/github/futureCodersSE/working-with-data/blob/main/Interrogating_dataframes.ipynb\" target=\"_parent\"><img src=\"https://colab.research.google.com/assets/colab-badge.svg\" alt=\"Open In Colab\"/></a>"
      ]
    },
    {
      "cell_type": "markdown",
      "metadata": {
        "id": "1Gs0TsVUvHgr"
      },
      "source": [
        "# Interrogating the dataframe\n",
        "---\n",
        "\n",
        "We use pandas to create dataframes from data sets in files or online tables.\n",
        "\n",
        "Once we have the dataframe we might want to:  \n",
        "*   display a subset of rows\n",
        "*   *   we can do this using df.head(), df.tail() or df.iloc[index]\n",
        "*   display a subset of columns\n",
        "*   *   we can do this using the column name as the key, e.g.   \n",
        "`                df['rain (mm)']`  \n",
        "*   *   we can display more than one column, simply by listing the columns in the square brackets, e.g.   \n",
        "`                df[['rain (mm)', 'tmin (degC)', 'sun (hours)']]`  \n",
        "*   *   and can dislay a subset of rows for a subset of columns, e.g.  \n",
        " `               df[['rain (mm)', 'tmax (degC)']].head(10)`\n",
        "\n",
        "\n"
      ]
    },
    {
      "cell_type": "markdown",
      "metadata": {
        "id": "rugxYQSIyHiR"
      },
      "source": [
        "### Exercise 1 - get the data, look at first 10 records\n",
        "---\n",
        "\n",
        "\n",
        "1.  Import the pandas library with the alias pd  \n",
        "2.  Read the sheet with the name \"Industry Migration\" from the Excel file from this link: https://github.com/futureCodersSE/working-with-data/blob/main/Data%20sets/public_use-talent-migration.xlsx?raw=true  (*Hint:  use pd.read_excel(url, sheet_name=\"Industry Migration\") with the above url.*)\n",
        "3.  display the first 10 rows of the data\n",
        "\n"
      ]
    },
    {
      "cell_type": "code",
      "metadata": {
        "id": "WHEnQlll1vyL"
      },
      "source": [],
      "execution_count": null,
      "outputs": []
    },
    {
      "cell_type": "markdown",
      "metadata": {
        "id": "dBsdAsk43aoX"
      },
      "source": [
        "### Exercise 2 - display just two columns\n",
        "\n",
        "Display the first 50 records focusing on the industries where migration is happening in each country (show just country_name and industry_name)."
      ]
    },
    {
      "cell_type": "code",
      "metadata": {
        "id": "rDEzOpDXvGx0"
      },
      "source": [],
      "execution_count": null,
      "outputs": []
    },
    {
      "cell_type": "markdown",
      "metadata": {
        "id": "ZIsrvFNjAuWE"
      },
      "source": [
        "### Exercise 3 - yearly migration\n",
        "\n",
        "*   display the middle 20 records, showing the country_name and the migration for each of the years 2015 to 2019.\n",
        "---\n"
      ]
    },
    {
      "cell_type": "code",
      "metadata": {
        "id": "yXpe9SuBBloC"
      },
      "source": [],
      "execution_count": null,
      "outputs": []
    },
    {
      "cell_type": "markdown",
      "metadata": {
        "id": "2wfsDcuvBl7o"
      },
      "source": [
        "### Exercise 4 - migration to and from\n",
        "---\n",
        "\n",
        "The Excel file at this link (which you have already opened above): https://github.com/futureCodersSE/working-with-data/blob/main/Data%20sets/public_use-talent-migration.xlsx?raw=true has three data sheets, \"Country Migration\", \"Industry Migration\" and \"Skills Migration\"\n",
        "\n",
        "Open the data sheet \"Country Migration\" and display the first 10 records showing the country that migration was to, the country it was from and the net migration for each year from 2015 to 2019"
      ]
    },
    {
      "cell_type": "code",
      "metadata": {
        "id": "Q2tyWrG7-UAW"
      },
      "source": [],
      "execution_count": null,
      "outputs": []
    },
    {
      "cell_type": "markdown",
      "metadata": {
        "id": "vb9QQv_VBHVk"
      },
      "source": [
        "### Exercise 5 - unique countries\n",
        "\n",
        "Using the \"Country Migration\" sheet, get all the unique country names from where people have migrated (base_country_name) and use a for loop to print a list of the countries."
      ]
    },
    {
      "cell_type": "code",
      "metadata": {
        "id": "f6uCYdEHBw1f"
      },
      "source": [
        "\n"
      ],
      "execution_count": null,
      "outputs": []
    },
    {
      "cell_type": "markdown",
      "metadata": {
        "id": "SQNg0Sk5FaJ3"
      },
      "source": [
        "### Exercise 6 - how many countries are migrated to\n",
        "\n",
        "Using the \"Country Migration\" sheet again, get all the unique country names to where people have migrated and display the number of unique countries."
      ]
    },
    {
      "cell_type": "code",
      "metadata": {
        "id": "SCidja1FFySO"
      },
      "source": [],
      "execution_count": null,
      "outputs": []
    },
    {
      "cell_type": "markdown",
      "metadata": {
        "id": "qyjM39DzFy3t"
      },
      "source": [
        "### Exercise 7 - skill sets\n",
        "---\n",
        "\n",
        "\n",
        "Using the \"Skill Migration\" data sheet, display the following:\n",
        "*  the first record\n",
        "*  the last 10 records\n",
        "*  records from index 500 to index 600  \n",
        "*  a count of all unique countries\n",
        "*  a list of all unique skill group categories\n",
        "*  the first 50 rows, skill group names and net migration in 2019 only"
      ]
    },
    {
      "cell_type": "code",
      "metadata": {
        "id": "EWGy5iQHG8vA"
      },
      "source": [],
      "execution_count": null,
      "outputs": []
    },
    {
      "cell_type": "markdown",
      "metadata": {
        "id": "V_v89VIqG9Lq"
      },
      "source": [
        "### Exercise 8 - total net migration over 5 years\n",
        "---\n",
        "\n",
        "Using the Country Migration data sheet, display the record at position 10.  Using the column names to access the data in each column, add the five columns containing the net migration data together to calculate the total net migration over the 5 years between 2015 and 2019."
      ]
    },
    {
      "cell_type": "code",
      "metadata": {
        "id": "YTov4W2dILe2"
      },
      "source": [],
      "execution_count": null,
      "outputs": []
    },
    {
      "cell_type": "markdown",
      "metadata": {
        "id": "cFffYI2qJJI-"
      },
      "source": [
        "### Exercise 9 - formulating a text response\n",
        "\n",
        "Using the Industry Migration data sheet, display the record at position 100.  Using the column names again to access the data in each column, calculate net migration over the 5 years from 2015 to 2019.\n",
        "\n",
        "Then print the following message, adding the data where indicated:\n",
        "\n",
        "The total net migration into `country` of skilled workers for the `industry name` industry, during the years 2015-2019 was `total_net_migration`"
      ]
    },
    {
      "cell_type": "code",
      "metadata": {
        "id": "dYlVTLOGNoOO"
      },
      "source": [],
      "execution_count": null,
      "outputs": []
    },
    {
      "cell_type": "markdown",
      "metadata": {
        "id": "AGqV7ySKKadV"
      },
      "source": [
        "### Exercise 10 - five text responses\n",
        "\n",
        "Using the Industry Migration data sheet, calculate net migration (rounded to 1 decimal place) over the 5 years from 2015 to 2019 for the records at positions 1 to 5 and print the following message for each, adding the data where indicated:\n",
        "\n",
        "The total net migration into `country` of skilled workers for the `industry name` industry, during the years 2015-2019 was `total_net_migration`\n",
        "\n",
        "*Hint: use a for loop to get a record and do each calculation*"
      ]
    },
    {
      "cell_type": "code",
      "metadata": {
        "id": "f2ZMvHXTLRm1"
      },
      "source": [],
      "execution_count": null,
      "outputs": []
    }
  ]
}