{
  "nbformat": 4,
  "nbformat_minor": 0,
  "metadata": {
    "colab": {
      "name": "Splitting Data.ipynb",
      "provenance": [],
      "collapsed_sections": [],
      "authorship_tag": "ABX9TyMVCLbiLPD/e4fxePhvZgzZ",
      "include_colab_link": true
    },
    "kernelspec": {
      "name": "python3",
      "display_name": "Python 3"
    },
    "language_info": {
      "name": "python"
    }
  },
  "cells": [
    {
      "cell_type": "markdown",
      "metadata": {
        "id": "view-in-github",
        "colab_type": "text"
      },
      "source": [
        "<a href=\"https://colab.research.google.com/github/futureCodersSE/working-with-data/blob/main/Splitting_Data.ipynb\" target=\"_parent\"><img src=\"https://colab.research.google.com/assets/colab-badge.svg\" alt=\"Open In Colab\"/></a>"
      ]
    },
    {
      "cell_type": "markdown",
      "metadata": {
        "id": "StqXePzNWF2c"
      },
      "source": [
        "# Filtering and splitting data\n",
        "---\n",
        "\n"
      ]
    },
    {
      "cell_type": "markdown",
      "metadata": {
        "id": "4AcAWv_tWM6C"
      },
      "source": [
        "A dataframe contains rows and columns.  Most operations will need specific columns and specific rows.  Knowing how to isolate the rows and columns you need to work with is the focus of this worksheet.  You will split columns, rows by index (head, tail, iloc) and filter rows by given criteria.\n",
        "\n",
        "To start the first set of exercises on this sheet, read the Titanic data set in the CSV file at this URL: https://raw.githubusercontent.com/pandas-dev/pandas/master/doc/data/titanic.csv\n",
        "\n",
        "You will need to run this cell each time you come back to this worksheet.\n",
        "\n",
        "Name read the data from the file into a dataframe called **titanic**"
      ]
    },
    {
      "cell_type": "code",
      "metadata": {
        "id": "h6FW3UhVWFA1"
      },
      "source": [
        ""
      ],
      "execution_count": null,
      "outputs": []
    },
    {
      "cell_type": "markdown",
      "metadata": {
        "id": "ZHqRhCEHztyc"
      },
      "source": [
        "## Splitting across columns and rows\n",
        "---\n",
        "\n",
        "For further reference:  [How do I select a subset of a Dataframe - Pandas Getting Started Tutorial](https://pandas.pydata.org/pandas-docs/stable/getting_started/intro_tutorials/03_subset_data.html)"
      ]
    },
    {
      "cell_type": "markdown",
      "metadata": {
        "id": "dp8f6BKAZ1l7"
      },
      "source": [
        "### Exercise 1 - create a dataframe containing a subset of columns\n",
        "\n",
        "Create a new dataframe called **survival** which contains just the `Name`, `Sex`, `Age` and `Survived` columns.  Display the first 5 rows of the new data column.\n",
        "\n",
        "(*Reminder: use [ ] to specify a column or a set of columns.  Where there is a set of columns, these should be included in a list inside the main squar brackets e.g. df[ [ item1, item2, item3 ] ] so that there is only ever ONE item in the outer brackets*)\n",
        "\n",
        "**Test output**:  \n",
        "\tName\tSex\tAge\tSurvived  \n",
        "0\tBraund, Mr. Owen Harris\tmale\t22.0\t0  \n",
        "1\tCumings, Mrs. John Bradley (Florence Briggs Th...\tfemale\t38.0\t1  \n",
        "2\tHeikkinen, Miss. Laina\tfemale\t26.0\t1  \n",
        "3\tFutrelle, Mrs. Jacques Heath (Lily May Peel)\tfemale\t35.0\t1  \n",
        "4\tAllen, Mr. William Henry\tmale\t35.0\t0  "
      ]
    },
    {
      "cell_type": "code",
      "metadata": {
        "id": "o0qc_zcHacKq"
      },
      "source": [
        "\n",
        "  "
      ],
      "execution_count": null,
      "outputs": []
    },
    {
      "cell_type": "markdown",
      "metadata": {
        "id": "F8WuSmwscMMp"
      },
      "source": [
        "### Exercise 2 - and another subset of columns\n",
        "\n",
        "Create a new dataframe called **fares** which contains the columns `Pclass`, `Cabin`, `Ticket` and `Fare`.  Display the final 8 rows.\n",
        "\n",
        "**Test output**:   \n",
        "\tPclass\tCabin\tTicket\tFare  \n",
        "883\t2\tNaN\tC.A./SOTON 34068\t10.500  \n",
        "884\t3\tNaN\tSOTON/OQ 392076\t7.050  \n",
        "885\t3\tNaN\t382652\t29.125  \n",
        "886\t2\tNaN\t211536\t13.000  \n",
        "887\t1\tB42\t112053\t30.000  \n",
        "888\t3\tNaN\tW./C. 6607\t23.450  \n",
        "889\t1\tC148\t111369\t30.000  \n",
        "890\t3\tNaN\t370376\t7.750  \n"
      ]
    },
    {
      "cell_type": "code",
      "metadata": {
        "id": "aP2U9DjydGPB"
      },
      "source": [
        ""
      ],
      "execution_count": null,
      "outputs": []
    },
    {
      "cell_type": "markdown",
      "metadata": {
        "id": "AmuyVFIrzz_r"
      },
      "source": [
        "## Filtering rows according to given criteria\n",
        "---\n",
        "\n",
        "To select records according to a given criteria, specify the criteria in the [ ] after the dataframe.  There may be one criterion or a set of criteria, in this case enclose each criterion in brackets ( ) and use logical symbols (e.g. & | !) or comparison operators (e.g. ==, < > !=) or  .\n",
        "\n",
        "**Example 1**\n",
        "The following will create a new dataframe called survivors which contains only the records of those who survived the sinking.  \n",
        "\n",
        "`survivors = titanic[titanic['Survived'] == 1]`\n",
        "\n",
        "The first five records of the `survivors` dataframe will be passengers with the ids 2, 3, 4, 9 and 10 and the shape of `survivors` will be `(342, 12)  `\n",
        "\n",
        "**Example 2**\n",
        "The following code will create a new dataframe called **young_females** which contains only the records of women under the age of 30 who survived the sinking.  \n",
        "\n",
        "`young_females = titanic[(titanic['Sex'] == 'female') & (titanic['Age'] < 30)]`\n",
        "\n",
        "The last five records of the `young_females` dataframe will be passengers with the ids 875, 876, 881, 883 and 888 and the shape of `young_females` will be (147, 12)  \n",
        "\n",
        "Try this code out in the cell below and get it to display the last 5 records.\n"
      ]
    },
    {
      "cell_type": "code",
      "metadata": {
        "id": "BADlWCKb0rIE"
      },
      "source": [
        ""
      ],
      "execution_count": null,
      "outputs": []
    },
    {
      "cell_type": "markdown",
      "metadata": {
        "id": "E6EqAsFd2FLj"
      },
      "source": [
        "### Exercise 3 - find the third class passengers\n",
        "---\n",
        "\n",
        "Create a new dataframe called **third_class_passengers** which contains only the records for passengers who travelled in passenger class 3.  Display the first 20 records\n",
        "\n",
        "**Test output**:  \n",
        "shape = (491, 12)  \n",
        "PassengerIds - 1,3,5,6,8,9,11,13,14,15,17,19,20,23,25,26,27,29,30,33  \n",
        "\n"
      ]
    },
    {
      "cell_type": "code",
      "metadata": {
        "id": "lM0nMbwC4u-h"
      },
      "source": [
        ""
      ],
      "execution_count": null,
      "outputs": []
    },
    {
      "cell_type": "markdown",
      "metadata": {
        "id": "vUUnIjSH6xxT"
      },
      "source": [
        "### Exercise 4 - female 1st class passengers who survived\n",
        "---\n",
        "\n",
        "Create a new dataframe called **female_1st_class_survivors** which contains only the records for female passengers who travelled in passenger class 1 and who survived.  Display the last 10 records\n",
        "\n",
        "**Test output**:  \n",
        "(91, 12)  \n",
        "PassengerIds - 830, 836, 843, 850, 854, 857, 863, 872, 880, 888  \n"
      ]
    },
    {
      "cell_type": "code",
      "metadata": {
        "id": "lt8lWovB4oGu"
      },
      "source": [
        ""
      ],
      "execution_count": null,
      "outputs": []
    },
    {
      "cell_type": "markdown",
      "metadata": {
        "id": "vXx1PcEM8sqQ"
      },
      "source": [
        "## Filtered and split\n",
        "---\n",
        "\n",
        "When selecting on criteria and by column, specify the criteria first, then specify the columns.  Example - display the name and passenger class for female passengers under the age of 30:  \n",
        "\n",
        "`young_females = titanic[(titanic['Sex'] == 'female')&(titanic['Age'] < 30][['Name','Pclass']]`\n",
        "\n",
        "---\n",
        "\n",
        "\n",
        "\n",
        "### Exercise 5 - name and passenger id for passengers who embarked at port C\n",
        "---\n",
        "\n",
        "Create a new dataframe called **port_embarkation_list** which contains only the records for passengers who embarked at port C.  Display the `Name` and `PassengerId` only for all records\n",
        "\n",
        "**Test output**:  \n",
        "(168, 2)  \n",
        "PassengerIds shown - 1,9,19,26,30, ... 866, 874, 875, 879, 889  \n"
      ]
    },
    {
      "cell_type": "code",
      "metadata": {
        "id": "_VNAvl6t9V7p"
      },
      "source": [
        ""
      ],
      "execution_count": null,
      "outputs": []
    },
    {
      "cell_type": "markdown",
      "metadata": {
        "id": "iaDzb4Ny-fsQ"
      },
      "source": [
        "### Exercise 6 - passenger id and age for all surviving passengers over 50\n",
        "---\n",
        "\n",
        "Create a dataframe called **older_survivors** which contains only the records for passengers who survived and who are older than 50.  Display the `PassengerId` and `Age` only for the last 15 records.  \n",
        "\n",
        "**Test output**:  \n",
        "shape = (22, 2)  \n",
        "PassengerIds = 483, 496, 513, 570, 571, 587, 591, 630, 647, 765, 774, 820, 829, 857, 879  \n"
      ]
    },
    {
      "cell_type": "code",
      "metadata": {
        "id": "m-_5P1TN_Lm6"
      },
      "source": [
        ""
      ],
      "execution_count": null,
      "outputs": []
    },
    {
      "cell_type": "markdown",
      "metadata": {
        "id": "zjmxu79DACNv"
      },
      "source": [
        "### Exercise 7 - display the Name and Age of the first male, 2nd class passenger who embarked at port Q\n",
        "---\n",
        "\n",
        "\n",
        "Create a dataframe called **male_2nd_Q** which contains only the records for passengers who embarked at port Q, travelled second class and were male.  Display the `Name` and `Age` of the first (and only) passenger in this list.\n",
        "\n",
        "**Test output**:  \n",
        "shape = (1, 2)  \n",
        "Name = Kirkland, Rev. Charles Leonard  \n",
        "Age = 57.0  "
      ]
    },
    {
      "cell_type": "code",
      "metadata": {
        "id": "fFohUAwnB-zO"
      },
      "source": [
        ""
      ],
      "execution_count": null,
      "outputs": []
    },
    {
      "cell_type": "markdown",
      "metadata": {
        "id": "ep0UEN0bC8At"
      },
      "source": [
        "### Exercise 8 - summarise data on who survived in each passenger class\n",
        "---\n",
        "\n",
        "\n",
        "Create three dataframes to hold the records for passengers in each of the three passenger classes who survived.  Display the description of each set of `PassengerIds` for all survivors.  \n",
        "\n",
        "*To print the description as a string use:*  \n",
        "```\n",
        "print('First class survivors') \n",
        "print(first_class.describe().to_string())\n",
        "```\n",
        "\n",
        "**Test output**:  \n",
        "first_class =  count 136.000000 ...  \n",
        "second_class =  count 87.000000 ...  \n",
        "third_class =  count 119.000000 ...  "
      ]
    },
    {
      "cell_type": "code",
      "metadata": {
        "id": "39kI8ipYD5bt"
      },
      "source": [
        ""
      ],
      "execution_count": null,
      "outputs": []
    },
    {
      "cell_type": "markdown",
      "metadata": {
        "id": "xJDlA6k_GV8N"
      },
      "source": [
        "### Exercise 9 - summarise data on young males who survived and all males\n",
        "---\n",
        "\n",
        "Create two dataframes to hold the records for all male passengers in one and all young males who survived.  Display the description of each set including `Age` for all records in each.    \n",
        "\n",
        "**Test output**:  \n",
        "all_males = count 453.000000 mean 30.726645 ...  \n",
        "young_males = count 93.000000 mean 27.276022 ...\n"
      ]
    },
    {
      "cell_type": "code",
      "metadata": {
        "id": "X-wBJ6olHSRD"
      },
      "source": [
        ""
      ],
      "execution_count": null,
      "outputs": []
    },
    {
      "cell_type": "markdown",
      "metadata": {
        "id": "bTPGNHmfIQ20"
      },
      "source": [
        "### Exercise 10 - challenge\n",
        "\n",
        "Create a set of code cells each with some code that shows the means or the counts for interesting data sets. Add a text cell before each set of code cells to explain what you are showing in the following set of cells. \n",
        "\n",
        "*To do this you can add the function to the end of the selection code as shown below*:  \n",
        "```\n",
        "young_males_avg_age = titanic[(titanic['Sex'] == 'male')]['Age'].mean()\n",
        "print(young_males_avg_age)\n",
        "```\n",
        "\n",
        "An example might be that you are going to select passengers who embarked at port C and who paid a fare over 50.000 and you are going to count the number of `PassengerId` and `Cabin` for these passengers (*you will apply the count to the selected columns rather than the whole data table*)\n",
        "```\n",
        "embarked_passengers = titanic[(titanic['Embarked'] == 'C')&(titanic['Fare'] > 50)][['PassengerId','Cabin']].count()\n",
        "print(embarked_passengers)\n",
        "```\n",
        "\n"
      ]
    },
    {
      "cell_type": "code",
      "metadata": {
        "id": "AgHqngFgKDo0"
      },
      "source": [
        ""
      ],
      "execution_count": null,
      "outputs": []
    },
    {
      "cell_type": "code",
      "metadata": {
        "id": "5q77UVK9MB9h"
      },
      "source": [
        ""
      ],
      "execution_count": null,
      "outputs": []
    },
    {
      "cell_type": "code",
      "metadata": {
        "id": "vNn1fqF7MCJj"
      },
      "source": [
        ""
      ],
      "execution_count": null,
      "outputs": []
    }
  ]
}