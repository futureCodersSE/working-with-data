{
  "nbformat": 4,
  "nbformat_minor": 0,
  "metadata": {
    "colab": {
      "name": "Data Investigation Project.ipynb",
      "provenance": [],
      "authorship_tag": "ABX9TyMCjSZRyBs8nOb8CW5lL0pj",
      "include_colab_link": true
    },
    "kernelspec": {
      "name": "python3",
      "display_name": "Python 3"
    },
    "language_info": {
      "name": "python"
    }
  },
  "cells": [
    {
      "cell_type": "markdown",
      "metadata": {
        "id": "view-in-github",
        "colab_type": "text"
      },
      "source": [
        "<a href=\"https://colab.research.google.com/github/futureCodersSE/working-with-data/blob/main/Data_Investigation_Project.ipynb\" target=\"_parent\"><img src=\"https://colab.research.google.com/assets/colab-badge.svg\" alt=\"Open In Colab\"/></a>"
      ]
    },
    {
      "cell_type": "markdown",
      "metadata": {
        "id": "hmwPnuX3KU5t"
      },
      "source": [
        "# Data investigation project\n",
        "---\n",
        "\n",
        "Use what you have learnt so far about reading data files and displaying rows, columns, unique values, etc, to investigate and produce some printed information from this data set: https://raw.githubusercontent.com/futureCodersSE/working-with-data/main/Data%20sets/housing_in_london_yearly_variables.csv"
      ]
    },
    {
      "cell_type": "code",
      "metadata": {
        "id": "Z1q5Ven3KUEL"
      },
      "source": [
        ""
      ],
      "execution_count": null,
      "outputs": []
    }
  ]
}