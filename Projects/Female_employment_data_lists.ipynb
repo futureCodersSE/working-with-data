{
  "nbformat": 4,
  "nbformat_minor": 0,
  "metadata": {
    "colab": {
      "provenance": [],
      "authorship_tag": "ABX9TyOMdCz2d9UEJi5Wkjypiwvw",
      "include_colab_link": true
    },
    "kernelspec": {
      "name": "python3",
      "display_name": "Python 3"
    },
    "language_info": {
      "name": "python"
    }
  },
  "cells": [
    {
      "cell_type": "markdown",
      "metadata": {
        "id": "view-in-github",
        "colab_type": "text"
      },
      "source": [
        "<a href=\"https://colab.research.google.com/github/futureCodersSE/working-with-data/blob/main/Projects/Female_employment_data_lists.ipynb\" target=\"_parent\"><img src=\"https://colab.research.google.com/assets/colab-badge.svg\" alt=\"Open In Colab\"/></a>"
      ]
    },
    {
      "cell_type": "markdown",
      "source": [
        "# Female employment rates\n",
        "\n",
        "## 1971 to 2023 UK\n",
        "\n",
        "Link to data source: https://www.ons.gov.uk/employmentandlabourmarket/peopleinwork/employmentandemployeetypes/timeseries/lf25/lms\n",
        "\n",
        "The data has been retrieved and used to create a list of dictionary records.  Each record contains a time_period and the female employment rate (seasonally adjusted %) for the UK.\n",
        "\n",
        "Some questions to ask of the data might be how much the percentage of the female population in the workplace has changed since 1971, is the rate of change different in different parts of the year?\n",
        "\n",
        "Run the code cell below to generate, and print, a list of dictionaries, so that you can see the data."
      ],
      "metadata": {
        "id": "gAkgnjgDLQat"
      }
    },
    {
      "cell_type": "code",
      "execution_count": null,
      "metadata": {
        "id": "M9THHgUpLM92"
      },
      "outputs": [],
      "source": [
        "import pandas as pd\n",
        "\n",
        "def get_data():\n",
        "  url = \"https://drive.google.com/uc?id=1aQ8Xy-Sw046j-JCiIOu3ETqrACFsYuCj\"\n",
        "  df = pd.read_csv(url, skiprows=8, header=None)\n",
        "  time_periods = df[0].tolist()\n",
        "  employment = df[1].tolist()\n",
        "  datalist = []\n",
        "  for i in range(len(df)):\n",
        "    datalist.append({\"Time_period\":time_periods[i], \"Employment\":employment[i]})\n",
        "  return datalist\n",
        "\n",
        "employment_data = get_data()\n",
        "for item in employment_data:\n",
        "  print(item)\n",
        "\n"
      ]
    },
    {
      "cell_type": "markdown",
      "source": [
        "There is a collection of different types of time_periods (whole years, years in quarters, months).\n",
        "\n",
        "Observe the lists and then write code to create a set of smaller lists that make some sense.  Here are some ideas:\n",
        "\n",
        "* a list of all the employment figures for whole years\n",
        "* a list of all the employment figures for Q1 for all given years (and another for Q2, etc)\n",
        "* a list of all the employment figures for January for all given years (and another for February, etc)  \n"
      ],
      "metadata": {
        "id": "LB5a3NHkOhF0"
      }
    },
    {
      "cell_type": "code",
      "source": [],
      "metadata": {
        "id": "wUYKr945PjmP"
      },
      "execution_count": null,
      "outputs": []
    },
    {
      "cell_type": "code",
      "source": [],
      "metadata": {
        "id": "JwO4Ufg7PkXF"
      },
      "execution_count": null,
      "outputs": []
    },
    {
      "cell_type": "code",
      "source": [],
      "metadata": {
        "id": "rSmSsakKPkkF"
      },
      "execution_count": null,
      "outputs": []
    },
    {
      "cell_type": "code",
      "source": [],
      "metadata": {
        "id": "dv3e5u5xPktN"
      },
      "execution_count": null,
      "outputs": []
    },
    {
      "cell_type": "markdown",
      "source": [
        "Calculate some statistics from your lists (e.g. mean, max, min, etc for all years, for the same quarter, or month, over all years, etc) and think about correlation between quarter and employment rate - can you show this?"
      ],
      "metadata": {
        "id": "UZABSecuPlM3"
      }
    },
    {
      "cell_type": "code",
      "source": [],
      "metadata": {
        "id": "4PJSoyKdQDvX"
      },
      "execution_count": null,
      "outputs": []
    },
    {
      "cell_type": "code",
      "source": [],
      "metadata": {
        "id": "ugvRKlG-QD4v"
      },
      "execution_count": null,
      "outputs": []
    },
    {
      "cell_type": "markdown",
      "source": [
        "Think about how you might visualise something like the average for each quarter over the years available.  Maybe you can print a number of stars on a line for each 1%?  e.g.\n",
        "\n",
        "```\n",
        "Q1 ***************************************************\n",
        "Q2 **********************************************************\n",
        "Q3 *****************************************************************\n",
        "Q4 ***************************************************\n",
        "```\n"
      ],
      "metadata": {
        "id": "YBTg498rQET9"
      }
    }
  ]
}