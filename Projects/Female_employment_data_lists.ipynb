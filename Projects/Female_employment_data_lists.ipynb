{
  "nbformat": 4,
  "nbformat_minor": 0,
  "metadata": {
    "colab": {
      "provenance": [],
      "authorship_tag": "ABX9TyOCB9yRFgIovBazUJzHZAZe",
      "include_colab_link": true
    },
    "kernelspec": {
      "name": "python3",
      "display_name": "Python 3"
    },
    "language_info": {
      "name": "python"
    }
  },
  "cells": [
    {
      "cell_type": "markdown",
      "metadata": {
        "id": "view-in-github",
        "colab_type": "text"
      },
      "source": [
        "<a href=\"https://colab.research.google.com/github/futureCodersSE/working-with-data/blob/main/Projects/Female_employment_data_lists.ipynb\" target=\"_parent\"><img src=\"https://colab.research.google.com/assets/colab-badge.svg\" alt=\"Open In Colab\"/></a>"
      ]
    },
    {
      "cell_type": "markdown",
      "source": [
        "# Female employment rates\n",
        "\n",
        "## 1971 to 2023 UK\n",
        "\n",
        "Link to data source: https://www.ons.gov.uk/employmentandlabourmarket/peopleinwork/employmentandemployeetypes/timeseries/lf25/lms\n",
        "\n",
        "The data has been retrieved and split into two corresponding lists, one of time_periods and one of female employment rate (seasonally adjusted %) for the UK.\n",
        "\n",
        "Run the code cell below to generate the two lists and print them parallel to each other."
      ],
      "metadata": {
        "id": "gAkgnjgDLQat"
      }
    },
    {
      "cell_type": "code",
      "execution_count": null,
      "metadata": {
        "id": "M9THHgUpLM92"
      },
      "outputs": [],
      "source": [
        "import pandas as pd\n",
        "\n",
        "def get_data():\n",
        "  url = \"https://drive.google.com/uc?id=1aQ8Xy-Sw046j-JCiIOu3ETqrACFsYuCj\"\n",
        "  df = pd.read_csv(url, skiprows=8, header=None)\n",
        "  return df[0].tolist(), df[1].tolist()\n",
        "\n",
        "def print_data_as_table(time_period, employment):\n",
        "  for i in range(len(time_period)):\n",
        "    print(time_period[i], \"      \", employment[i])\n",
        "\n",
        "time_period, employment = get_data()\n",
        "print_data_as_table(time_period, employment)\n",
        "\n"
      ]
    },
    {
      "cell_type": "markdown",
      "source": [
        "The list of time_periods has a number of discrete sections (whole years, years in quarters, months).\n",
        "\n",
        "Observe the lists and then write code to create a set of smaller lists that make some sense.  You wil need to make pairs of lists (years and corresponding rates, etc)"
      ],
      "metadata": {
        "id": "LB5a3NHkOhF0"
      }
    },
    {
      "cell_type": "code",
      "source": [],
      "metadata": {
        "id": "wUYKr945PjmP"
      },
      "execution_count": null,
      "outputs": []
    },
    {
      "cell_type": "code",
      "source": [],
      "metadata": {
        "id": "JwO4Ufg7PkXF"
      },
      "execution_count": null,
      "outputs": []
    },
    {
      "cell_type": "code",
      "source": [],
      "metadata": {
        "id": "rSmSsakKPkkF"
      },
      "execution_count": null,
      "outputs": []
    },
    {
      "cell_type": "code",
      "source": [],
      "metadata": {
        "id": "dv3e5u5xPktN"
      },
      "execution_count": null,
      "outputs": []
    },
    {
      "cell_type": "markdown",
      "source": [
        "Calculate some statistics from your lists (mean, max, min, etc) and think about correlation between quarter and employment rate - can you show this?"
      ],
      "metadata": {
        "id": "UZABSecuPlM3"
      }
    },
    {
      "cell_type": "code",
      "source": [],
      "metadata": {
        "id": "4PJSoyKdQDvX"
      },
      "execution_count": null,
      "outputs": []
    },
    {
      "cell_type": "code",
      "source": [],
      "metadata": {
        "id": "ugvRKlG-QD4v"
      },
      "execution_count": null,
      "outputs": []
    },
    {
      "cell_type": "markdown",
      "source": [
        "Think about how you might visualise something like the average for each quarter over the years available.  Maybe you can print a number of stars on a line for each 1%?  e.g.\n",
        "\n",
        "```\n",
        "Q1 ***************************************************\n",
        "Q2 **********************************************************\n",
        "Q3 *****************************************************************\n",
        "Q4 ***************************************************\n",
        "```\n"
      ],
      "metadata": {
        "id": "YBTg498rQET9"
      }
    }
  ]
}