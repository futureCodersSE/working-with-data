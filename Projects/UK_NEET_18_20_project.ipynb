{
  "nbformat": 4,
  "nbformat_minor": 0,
  "metadata": {
    "colab": {
      "provenance": [],
      "authorship_tag": "ABX9TyOBkdOoxhyAXOsDTB5r7tj3",
      "include_colab_link": true
    },
    "kernelspec": {
      "name": "python3",
      "display_name": "Python 3"
    },
    "language_info": {
      "name": "python"
    }
  },
  "cells": [
    {
      "cell_type": "markdown",
      "metadata": {
        "id": "view-in-github",
        "colab_type": "text"
      },
      "source": [
        "<a href=\"https://colab.research.google.com/github/futureCodersSE/working-with-data/blob/main/Projects/UK_NEET_18_20_project.ipynb\" target=\"_parent\"><img src=\"https://colab.research.google.com/assets/colab-badge.svg\" alt=\"Open In Colab\"/></a>"
      ]
    },
    {
      "cell_type": "markdown",
      "source": [
        "# UK 18 to 20 years olds who were Not in Education, Employment or Training between 2001 and 2023 by quarter\n",
        "---\n"
      ],
      "metadata": {
        "id": "53X47fY3V676"
      }
    },
    {
      "cell_type": "code",
      "execution_count": null,
      "metadata": {
        "id": "uV4n4_mkV6MU"
      },
      "outputs": [],
      "source": [
        "import pandas as pd\n",
        "\n",
        "def get_data():\n",
        "  url = \"https://drive.google.com/uc?id=1zhA07XBcPHmBFe7hMxySxWMb8bgYZ5jt\"\n",
        "  df = pd.read_csv(url)\n",
        "  date_list = df[\"Time period\"].tolist()\n",
        "  unemployed = df['Unemployed'].tolist()\n",
        "  inactive = df['Economically inactive'].tolist()\n",
        "  total_in_group = df['Total in population group (18-20)'].tolist()\n",
        "  return date_list, unemployed, inactive, total_in_group\n",
        "\n",
        "dates, unemployed, inactive, total_in_group = get_data()\n",
        "print(\"Time period\".ljust(12),\"Unemployed\".rjust(10),\t\"Inactive\".rjust(10), \"Total(18-20)\".rjust(12))\n",
        "template_str = \"{date} {unemployed} {inactive} {total_in_group}\"\n",
        "for i in range(len(dates)):\n",
        "  print(template_str.format(date = str(dates[i]).ljust(12), unemployed = str(unemployed[i]).rjust(10), inactive = str(inactive[i]).rjust(10), total_in_group = str(total_in_group[i]).rjust(12)))"
      ]
    },
    {
      "cell_type": "markdown",
      "source": [
        "# Play with some statistics\n",
        "\n",
        "Create a new list called Unemployed(%) and populate it with a list of the percentage of the total_in_group who are unemployed.\n",
        "\n",
        "Find the maximum percentage and use its index to find the quarter when this occurred.\n",
        "\n",
        "Do something similar with minimum, mean, etc"
      ],
      "metadata": {
        "id": "680tPlX-XWrh"
      }
    },
    {
      "cell_type": "code",
      "source": [],
      "metadata": {
        "id": "c7UsuXmJXTI0"
      },
      "execution_count": null,
      "outputs": []
    },
    {
      "cell_type": "markdown",
      "source": [
        "# Create some new lists\n",
        "\n",
        "Create a list with just the years in it.\n",
        "\n",
        "Find the average percentage unemployed for each quarter over the years (ie the average for Jan-Mar for each year from 2002 to 2023\n",
        "\n",
        "Do the same for each quarter.\n",
        "\n",
        "Find the mean percentage unemployed for each quarter and print these in a table.\n",
        "\n",
        "Do the same for economically inactive."
      ],
      "metadata": {
        "id": "KL75Sh9HsSN3"
      }
    },
    {
      "cell_type": "code",
      "source": [],
      "metadata": {
        "id": "lVpAVkp95yA4"
      },
      "execution_count": null,
      "outputs": []
    },
    {
      "cell_type": "code",
      "source": [],
      "metadata": {
        "id": "yzgsfJi_5yQ0"
      },
      "execution_count": null,
      "outputs": []
    },
    {
      "cell_type": "code",
      "source": [],
      "metadata": {
        "id": "_3YVSi0w5ybl"
      },
      "execution_count": null,
      "outputs": []
    },
    {
      "cell_type": "code",
      "source": [],
      "metadata": {
        "id": "MLkAGemP5yk4"
      },
      "execution_count": null,
      "outputs": []
    },
    {
      "cell_type": "code",
      "source": [],
      "metadata": {
        "id": "PP36ACTE55LL"
      },
      "execution_count": null,
      "outputs": []
    },
    {
      "cell_type": "code",
      "source": [],
      "metadata": {
        "id": "NNt2CubQ58Sb"
      },
      "execution_count": null,
      "outputs": []
    },
    {
      "cell_type": "markdown",
      "source": [
        "Think about how you might visualise something like the average for each quarter over the years available.  Maybe you can print a number of stars on a line for each 1%?  e.g.\n",
        "\n",
        "```\n",
        "Jan-Mar ***************************************************\n",
        "Apr-Jun **********************************************************\n",
        "Jul-Sep *****************************************************************\n",
        "Oct-Dec ***************************************************\n",
        "```\n"
      ],
      "metadata": {
        "id": "9YSLCw9G5zRU"
      }
    },
    {
      "cell_type": "code",
      "source": [],
      "metadata": {
        "id": "aqo8h4wX50TR"
      },
      "execution_count": null,
      "outputs": []
    }
  ]
}