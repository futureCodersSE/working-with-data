{
  "nbformat": 4,
  "nbformat_minor": 0,
  "metadata": {
    "colab": {
      "name": "Happiness-Data-Project.ipynb",
      "provenance": [],
      "collapsed_sections": [],
      "include_colab_link": true
    },
    "kernelspec": {
      "name": "python3",
      "display_name": "Python 3"
    }
  },
  "cells": [
    {
      "cell_type": "markdown",
      "metadata": {
        "id": "view-in-github",
        "colab_type": "text"
      },
      "source": [
        "<a href=\"https://colab.research.google.com/github/futureCodersSE/working-with-data/blob/main/Happiness_Data_Project.ipynb\" target=\"_parent\"><img src=\"https://colab.research.google.com/assets/colab-badge.svg\" alt=\"Open In Colab\"/></a>"
      ]
    },
    {
      "cell_type": "markdown",
      "metadata": {
        "id": "EfHTHqgybeJD"
      },
      "source": [
        "# How happy is the world?\n",
        "\n",
        "![HappinessImage-Benjamin Scott](https://drive.google.com/uc?id=1wWdXTclLAjPpZUiKkR8XGg0Sl7iD1u8T)  \n",
        "\n",
        "(Image by Benjamin Scott, [source](https://www.natureindex.com/news-blog/data-visualization-these-are-the-happiest-countries-world-happiness-report-twenty-nineteen))   \n",
        "\n",
        "The Sustainable Development Solutions Network (SDSN) collects data across the world relating to happiness.  They use this data to rank countries in order of happiness factor.\n",
        "\n",
        "This is not an exact science but can give food for thought in terms of what factors might have the most impact on a nation's happiness levels.\n",
        "\n",
        "Data is taken from the Gallup World Poll, so not collected directly by SDSN.  \n",
        "Countries are grouped by region.  \n",
        "\n",
        "### The factors included are:\n",
        "Economy (measured in GDP per Capita)\t\n",
        "Family (support systems) \t\n",
        "Health (measured by Life Expectancy)\t\n",
        "Freedom (sense of)  \t \n",
        "Trust (Government Corruption)\t\n",
        "Generosity (charitable inclinations)  \t\n",
        "Dystopia Residual \n",
        "*  Dystopic is the theoretical most unhappy country with the lowest levels in all six of the above factors  \n",
        "*  The Residual measure is a calculated as the average of the six distances from lowest\n",
        "\n",
        "Let's take a look at the data\n"
      ]
    },
    {
      "cell_type": "markdown",
      "metadata": {
        "id": "YT8CcbwXhH8B"
      },
      "source": [
        "---\n",
        "### Open a data set\n",
        "\n"
      ]
    },
    {
      "cell_type": "code",
      "metadata": {
        "id": "W1zTAPp6jZ8h"
      },
      "source": [
        ""
      ],
      "execution_count": null,
      "outputs": []
    },
    {
      "cell_type": "markdown",
      "metadata": {
        "id": "edKDv8BEssvV"
      },
      "source": [
        "---\n",
        "### Sort the data in different ways\n",
        "\n",
        "The data is currently sorted in order of rank.  To sort the data in the table, run the code below, which identifies the column on which to sort in the brackets.\n",
        "\n",
        "Then, **try sorting on other columns** *Note: you must type the column heading in the quotes and exactly as it appears in the table (including capitalisation)*.\n",
        "\n"
      ]
    },
    {
      "cell_type": "code",
      "metadata": {
        "id": "15Z98xp9teAs"
      },
      "source": [
        ""
      ],
      "execution_count": null,
      "outputs": []
    },
    {
      "cell_type": "markdown",
      "metadata": {
        "id": "jb19pDCGumzc"
      },
      "source": [
        "---\n",
        "### Visualising the data\n",
        "\n",
        "There are many things we can do with this data and you will be asked to think about this.\n",
        "\n",
        "For now, here is an example of how this data could be visualised in a scatter plot.  \n",
        "\n",
        "You can plot a line graph by replacing *scatter* with *plot* AND if you want to plot more than one line on the same chart, then you can just add one line for each column to include (one column must be the same in all plots).\n",
        "\n",
        "Try some different graphs, using different columns."
      ]
    },
    {
      "cell_type": "code",
      "metadata": {
        "id": "vTZZn7qZu1vC"
      },
      "source": [
        ""
      ],
      "execution_count": null,
      "outputs": []
    },
    {
      "cell_type": "markdown",
      "metadata": {
        "id": "vmqpqnmi6J8S"
      },
      "source": [
        "---\n",
        "### Next steps\n",
        "\n",
        "There are data sets for the years 2015 to 2019 available.  To access and try out other years, change 2015 to the required year in the URL in the first code cell.  Leave the rest exactly as it is.  \n",
        "\n",
        "Other years may have different column headings and so there will be different data to play with."
      ]
    }
  ]
}