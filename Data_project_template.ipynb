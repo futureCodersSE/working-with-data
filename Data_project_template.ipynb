{
  "nbformat": 4,
  "nbformat_minor": 0,
  "metadata": {
    "colab": {
      "provenance": [],
      "authorship_tag": "ABX9TyOqhQKWo9K9z03i5tgkC/iW",
      "include_colab_link": true
    },
    "kernelspec": {
      "name": "python3",
      "display_name": "Python 3"
    },
    "language_info": {
      "name": "python"
    }
  },
  "cells": [
    {
      "cell_type": "markdown",
      "metadata": {
        "id": "view-in-github",
        "colab_type": "text"
      },
      "source": [
        "<a href=\"https://colab.research.google.com/github/futureCodersSE/working-with-data/blob/main/Data_project_template.ipynb\" target=\"_parent\"><img src=\"https://colab.research.google.com/assets/colab-badge.svg\" alt=\"Open In Colab\"/></a>"
      ]
    },
    {
      "cell_type": "markdown",
      "source": [
        "# Project title\n",
        "---\n",
        "\n"
      ],
      "metadata": {
        "id": "02dpR9rYMijh"
      }
    },
    {
      "cell_type": "markdown",
      "source": [
        "## Author and date\n",
        "---\n",
        "\n"
      ],
      "metadata": {
        "id": "LwvpNNyXOmjw"
      }
    },
    {
      "cell_type": "markdown",
      "source": [
        "## Objectives\n",
        "_why are you interested in this dataset and what do you intend to try to find out from it_\n",
        "\n",
        "---\n"
      ],
      "metadata": {
        "id": "qsjh0h6UMmb3"
      }
    },
    {
      "cell_type": "markdown",
      "source": [
        "## The dataset\n",
        "_reference and link to the source of the data_\n",
        "* description of the dataset\n",
        "* description of the processing with code in the box below to show summary information about the data\n",
        "\n",
        "---\n",
        "\n"
      ],
      "metadata": {
        "id": "cSHl2YRBM7qq"
      }
    },
    {
      "cell_type": "code",
      "execution_count": null,
      "metadata": {
        "id": "TFsIm4TwMgWb"
      },
      "outputs": [],
      "source": [
        "## describe the dataset (number of records, statistics, columns, etc)"
      ]
    },
    {
      "cell_type": "markdown",
      "source": [
        "## Cleaning the data\n",
        "_what will you do to get the data ready for analysis_\n",
        "* sorting\n",
        "* removing null data\n",
        "* forming new data tables\n",
        "* ...\n",
        "---\n"
      ],
      "metadata": {
        "id": "h328UmNJNcuY"
      }
    },
    {
      "cell_type": "code",
      "source": [
        "## data cleaning code"
      ],
      "metadata": {
        "id": "LVH1SnqFNnIQ"
      },
      "execution_count": null,
      "outputs": []
    },
    {
      "cell_type": "markdown",
      "source": [
        "## Analysing the data\n",
        "_what analysis are you doing and why_\n",
        "* producing summary statistics\n",
        "* printing calculated statistics\n",
        "* data analysis calculations (e.g. regression, correlation)\n",
        "* ...\n",
        "\n",
        "---\n",
        "\n"
      ],
      "metadata": {
        "id": "e5AW4rIFNqcf"
      }
    },
    {
      "cell_type": "code",
      "source": [
        "## analysis code here"
      ],
      "metadata": {
        "id": "LZdlYyR3OKQB"
      },
      "execution_count": null,
      "outputs": []
    },
    {
      "cell_type": "markdown",
      "source": [
        "## Visualising the data\n",
        "_graphical or textual visualisation of the data_\n",
        "\n",
        "---\n",
        "\n"
      ],
      "metadata": {
        "id": "-EOtywRZOMRg"
      }
    },
    {
      "cell_type": "code",
      "source": [
        "## visualisation code here"
      ],
      "metadata": {
        "id": "_l2yWX2iOTB5"
      },
      "execution_count": null,
      "outputs": []
    },
    {
      "cell_type": "markdown",
      "source": [
        "# Summary\n",
        "_what has this dataset told you_\n",
        "_include what you have learnt from this project_"
      ],
      "metadata": {
        "id": "vb2p5V0MOWGo"
      }
    }
  ]
}