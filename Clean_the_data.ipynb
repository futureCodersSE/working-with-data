{
  "nbformat": 4,
  "nbformat_minor": 0,
  "metadata": {
    "colab": {
      "name": "Clean the data.ipynb",
      "provenance": [],
      "collapsed_sections": [],
      "authorship_tag": "ABX9TyO5jFE4HTQMwdV6jcwMR+1U",
      "include_colab_link": true
    },
    "kernelspec": {
      "name": "python3",
      "display_name": "Python 3"
    },
    "language_info": {
      "name": "python"
    }
  },
  "cells": [
    {
      "cell_type": "markdown",
      "metadata": {
        "id": "view-in-github",
        "colab_type": "text"
      },
      "source": [
        "<a href=\"https://colab.research.google.com/github/futureCodersSE/working-with-data/blob/main/Clean_the_data.ipynb\" target=\"_parent\"><img src=\"https://colab.research.google.com/assets/colab-badge.svg\" alt=\"Open In Colab\"/></a>"
      ]
    },
    {
      "cell_type": "markdown",
      "metadata": {
        "id": "8orImwy7DgGg"
      },
      "source": [
        "# Clean these data sets\n",
        "---\n",
        "\n",
        "\n",
        "The data in the following files has missing values, incorrectly formatted dates an incorrect data value, empty columns.\n",
        "\n",
        "Open each file, inspect the data, make decisions about how to deal with incorrect or missing data and clean the data set.  \n",
        "\n",
        "Make decisions about missing values - should the whole record be removed or is it obvious what the missing data should be?\n",
        "\n",
        "Remove rows where you have made the decision to do so.  \n",
        "Fill in values where you have made the decision to do so.  \n",
        "\n",
        "Remove empty columns.\n",
        "\n",
        "Format dates correctly (see [datetime worksheet](https://github.com/futureCodersSE/working-with-data/blob/main/Worksheet_functions_datetime.ipynb))    \n",
        "\n",
        "Once you have cleaned each data set, save the data set into a CSV file on your computer.\n",
        "\n",
        "To do this:  \n",
        "```\n",
        "from google.colab import files\n",
        "dataframe_name.to_csv('filename.csv') \n",
        "files.download('filename.csv')\n",
        "```\n",
        "\n",
        "---\n",
        "\n",
        "### Data set 1 - Calorie burning\n"
      ]
    },
    {
      "cell_type": "code",
      "metadata": {
        "id": "T182pRmGDd1o"
      },
      "source": [
        "import pandas as pd\n",
        "url = \"https://raw.githubusercontent.com/futureCodersSE/working-with-data/main/Data%20sets/Data%20Cleaning%20Data%20Sets/dirtydata.csv\""
      ],
      "execution_count": null,
      "outputs": []
    },
    {
      "cell_type": "markdown",
      "metadata": {
        "id": "blitvvRwGi_A"
      },
      "source": [
        "### Data set 2 - Presidential election voting\n",
        "---\n",
        "\n"
      ]
    },
    {
      "cell_type": "code",
      "metadata": {
        "id": "KT0Ybc2kGnV-"
      },
      "source": [
        "import pandas as pd\n",
        "url = \"https://raw.githubusercontent.com/futureCodersSE/working-with-data/main/Data%20sets/Data%20Cleaning%20Data%20Sets/presDirty.csv\""
      ],
      "execution_count": null,
      "outputs": []
    }
  ]
}